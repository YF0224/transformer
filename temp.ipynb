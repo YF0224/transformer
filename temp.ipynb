{
 "cells": [
  {
   "cell_type": "code",
   "execution_count": 18,
   "id": "initial_id",
   "metadata": {
    "collapsed": true,
    "ExecuteTime": {
     "end_time": "2024-07-28T08:23:11.739391700Z",
     "start_time": "2024-07-28T08:23:11.727422600Z"
    }
   },
   "outputs": [],
   "source": [
    "import torch\n",
    "from torch import nn"
   ]
  },
  {
   "cell_type": "code",
   "execution_count": 31,
   "outputs": [
    {
     "data": {
      "text/plain": "torch.Size([2, 4])"
     },
     "execution_count": 31,
     "metadata": {},
     "output_type": "execute_result"
    }
   ],
   "source": [
    "a = torch.tensor([[1, 1, 3, 4], [11, 3, 4, 2]])\n",
    "a.shape"
   ],
   "metadata": {
    "collapsed": false,
    "ExecuteTime": {
     "end_time": "2024-07-28T08:40:40.176987400Z",
     "start_time": "2024-07-28T08:40:40.168009400Z"
    }
   },
   "id": "1b55043f243b7e36"
  },
  {
   "cell_type": "code",
   "execution_count": 34,
   "outputs": [],
   "source": [
    "ebd = nn.Embedding(12, 24)"
   ],
   "metadata": {
    "collapsed": false,
    "ExecuteTime": {
     "end_time": "2024-07-28T09:24:54.646558200Z",
     "start_time": "2024-07-28T09:24:54.627196700Z"
    }
   },
   "id": "77f6115346bce1a7"
  },
  {
   "cell_type": "code",
   "execution_count": 35,
   "outputs": [
    {
     "data": {
      "text/plain": "tensor([[[-9.3232e-01,  6.6485e-01, -5.9116e-02,  2.7677e-01,  8.9819e-01,\n          -1.5729e+00,  1.2118e-02,  1.6905e+00,  9.3320e-01,  6.6669e-02,\n           2.3545e+00,  2.8323e-01, -7.6527e-02,  9.5224e-01, -8.0066e-01,\n          -5.3449e-01, -1.0783e+00, -3.8541e-01, -1.3118e-01,  8.7837e-01,\n          -1.4645e+00, -8.5969e-01,  3.3060e-02, -2.2612e-01],\n         [-9.3232e-01,  6.6485e-01, -5.9116e-02,  2.7677e-01,  8.9819e-01,\n          -1.5729e+00,  1.2118e-02,  1.6905e+00,  9.3320e-01,  6.6669e-02,\n           2.3545e+00,  2.8323e-01, -7.6527e-02,  9.5224e-01, -8.0066e-01,\n          -5.3449e-01, -1.0783e+00, -3.8541e-01, -1.3118e-01,  8.7837e-01,\n          -1.4645e+00, -8.5969e-01,  3.3060e-02, -2.2612e-01],\n         [ 6.3836e-01, -1.4647e+00,  5.0216e-01,  3.8542e-01, -7.6165e-01,\n           1.1023e+00, -2.0199e+00, -4.7331e-01,  1.3069e+00,  4.9413e-02,\n           7.6636e-01, -7.2085e-01,  1.4426e+00,  1.3964e+00,  1.4052e+00,\n           1.4733e+00,  1.1988e+00, -6.3234e-01, -5.2021e-01,  4.2087e-01,\n           1.8421e-01,  7.0544e-01, -1.2716e+00, -1.0345e+00],\n         [ 1.7074e+00, -1.5319e-01,  2.4437e-01, -1.2382e-01, -1.2321e-01,\n          -1.6086e+00, -1.5892e+00, -1.8183e+00, -9.5608e-01, -6.5720e-01,\n          -4.2676e-01, -1.1944e+00, -3.1948e-02, -1.5800e+00, -8.7240e-01,\n           1.8076e-03, -1.8631e+00,  1.5057e-01,  3.0204e+00, -2.0710e+00,\n          -8.5597e-01,  4.3138e-01,  4.8342e-01,  3.1944e-02]],\n\n        [[ 1.7431e+00,  3.6933e-01,  1.6256e-01,  1.4209e-02, -1.0205e-01,\n           2.3816e-01,  6.2726e-01, -3.6633e-01,  8.7777e-02, -8.0746e-01,\n           8.5206e-01,  5.9283e-01, -1.0122e+00,  3.4194e-02,  2.3328e-01,\n           4.8597e-01,  1.5606e-02, -9.2204e-02, -1.1685e+00,  2.4750e-01,\n          -2.4620e-01,  5.3614e-01,  1.5014e+00,  9.5777e-01],\n         [ 6.3836e-01, -1.4647e+00,  5.0216e-01,  3.8542e-01, -7.6165e-01,\n           1.1023e+00, -2.0199e+00, -4.7331e-01,  1.3069e+00,  4.9413e-02,\n           7.6636e-01, -7.2085e-01,  1.4426e+00,  1.3964e+00,  1.4052e+00,\n           1.4733e+00,  1.1988e+00, -6.3234e-01, -5.2021e-01,  4.2087e-01,\n           1.8421e-01,  7.0544e-01, -1.2716e+00, -1.0345e+00],\n         [ 1.7074e+00, -1.5319e-01,  2.4437e-01, -1.2382e-01, -1.2321e-01,\n          -1.6086e+00, -1.5892e+00, -1.8183e+00, -9.5608e-01, -6.5720e-01,\n          -4.2676e-01, -1.1944e+00, -3.1948e-02, -1.5800e+00, -8.7240e-01,\n           1.8076e-03, -1.8631e+00,  1.5057e-01,  3.0204e+00, -2.0710e+00,\n          -8.5597e-01,  4.3138e-01,  4.8342e-01,  3.1944e-02],\n         [-9.7813e-01,  1.0354e+00, -5.2697e-01,  1.5497e+00, -9.1859e-01,\n           3.6802e-01,  9.7348e-01,  1.9075e+00,  1.3699e-01, -1.4630e+00,\n           7.3574e-01,  1.1265e+00, -3.4008e-02, -4.1431e-01,  2.8959e-01,\n          -5.3422e-01,  4.4980e-01,  8.1246e-01, -7.1527e-01,  4.8115e-01,\n          -5.9725e-01, -5.7968e-01,  2.2189e-01, -1.2477e+00]]],\n       grad_fn=<EmbeddingBackward0>)"
     },
     "execution_count": 35,
     "metadata": {},
     "output_type": "execute_result"
    }
   ],
   "source": [
    "z = ebd(a)\n",
    "z"
   ],
   "metadata": {
    "collapsed": false,
    "ExecuteTime": {
     "end_time": "2024-07-28T09:24:55.831376300Z",
     "start_time": "2024-07-28T09:24:55.813829500Z"
    }
   },
   "id": "62d23049aad0e8c8"
  },
  {
   "cell_type": "code",
   "execution_count": 22,
   "outputs": [
    {
     "data": {
      "text/plain": "tensor([-0.0863,  0.0765,  0.7645,  0.8956,  0.6273, -1.0605, -1.0022, -1.9905,\n         0.2747, -0.9015,  1.1692, -0.3680, -0.9302,  0.4905, -0.1298,  2.0430,\n         0.7256,  1.1625,  1.5991, -0.1268,  0.3499,  1.1304, -0.4137,  0.2001],\n       grad_fn=<SelectBackward0>)"
     },
     "execution_count": 22,
     "metadata": {},
     "output_type": "execute_result"
    }
   ],
   "source": [
    "z[0]"
   ],
   "metadata": {
    "collapsed": false,
    "ExecuteTime": {
     "end_time": "2024-07-28T08:23:18.686469600Z",
     "start_time": "2024-07-28T08:23:18.652950800Z"
    }
   },
   "id": "af291061d88a6d60"
  },
  {
   "cell_type": "code",
   "execution_count": 9,
   "outputs": [
    {
     "data": {
      "text/plain": "24"
     },
     "execution_count": 9,
     "metadata": {},
     "output_type": "execute_result"
    }
   ],
   "source": [
    "len(z[0])"
   ],
   "metadata": {
    "collapsed": false,
    "ExecuteTime": {
     "end_time": "2024-07-28T08:08:43.659303300Z",
     "start_time": "2024-07-28T08:08:43.640302800Z"
    }
   },
   "id": "e79199df2f4d27d8"
  },
  {
   "cell_type": "code",
   "execution_count": null,
   "outputs": [],
   "source": [],
   "metadata": {
    "collapsed": false
   },
   "id": "1b389c524acaab24"
  }
 ],
 "metadata": {
  "kernelspec": {
   "display_name": "Python 3",
   "language": "python",
   "name": "python3"
  },
  "language_info": {
   "codemirror_mode": {
    "name": "ipython",
    "version": 2
   },
   "file_extension": ".py",
   "mimetype": "text/x-python",
   "name": "python",
   "nbconvert_exporter": "python",
   "pygments_lexer": "ipython2",
   "version": "2.7.6"
  }
 },
 "nbformat": 4,
 "nbformat_minor": 5
}
